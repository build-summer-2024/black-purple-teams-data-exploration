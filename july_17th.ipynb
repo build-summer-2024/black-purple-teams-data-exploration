{
 "cells": [
  {
   "cell_type": "code",
   "execution_count": 2,
   "metadata": {},
   "outputs": [
    {
     "data": {
      "text/html": [
       "<div>\n",
       "<style scoped>\n",
       "    .dataframe tbody tr th:only-of-type {\n",
       "        vertical-align: middle;\n",
       "    }\n",
       "\n",
       "    .dataframe tbody tr th {\n",
       "        vertical-align: top;\n",
       "    }\n",
       "\n",
       "    .dataframe thead th {\n",
       "        text-align: right;\n",
       "    }\n",
       "</style>\n",
       "<table border=\"1\" class=\"dataframe\">\n",
       "  <thead>\n",
       "    <tr style=\"text-align: right;\">\n",
       "      <th></th>\n",
       "      <th>order_id</th>\n",
       "      <th>quantity</th>\n",
       "      <th>item_name</th>\n",
       "      <th>choice_description</th>\n",
       "      <th>item_price</th>\n",
       "    </tr>\n",
       "  </thead>\n",
       "  <tbody>\n",
       "    <tr>\n",
       "      <th>0</th>\n",
       "      <td>1</td>\n",
       "      <td>1</td>\n",
       "      <td>Chips and Fresh Tomato Salsa</td>\n",
       "      <td>NaN</td>\n",
       "      <td>$2.39</td>\n",
       "    </tr>\n",
       "    <tr>\n",
       "      <th>1</th>\n",
       "      <td>1</td>\n",
       "      <td>1</td>\n",
       "      <td>Izze</td>\n",
       "      <td>[Clementine]</td>\n",
       "      <td>$3.39</td>\n",
       "    </tr>\n",
       "    <tr>\n",
       "      <th>2</th>\n",
       "      <td>1</td>\n",
       "      <td>1</td>\n",
       "      <td>Nantucket Nectar</td>\n",
       "      <td>[Apple]</td>\n",
       "      <td>$3.39</td>\n",
       "    </tr>\n",
       "    <tr>\n",
       "      <th>3</th>\n",
       "      <td>1</td>\n",
       "      <td>1</td>\n",
       "      <td>Chips and Tomatillo-Green Chili Salsa</td>\n",
       "      <td>NaN</td>\n",
       "      <td>$2.39</td>\n",
       "    </tr>\n",
       "    <tr>\n",
       "      <th>4</th>\n",
       "      <td>2</td>\n",
       "      <td>2</td>\n",
       "      <td>Chicken Bowl</td>\n",
       "      <td>[Tomatillo-Red Chili Salsa (Hot), [Black Beans...</td>\n",
       "      <td>$16.98</td>\n",
       "    </tr>\n",
       "  </tbody>\n",
       "</table>\n",
       "</div>"
      ],
      "text/plain": [
       "   order_id  quantity                              item_name  \\\n",
       "0         1         1           Chips and Fresh Tomato Salsa   \n",
       "1         1         1                                   Izze   \n",
       "2         1         1                       Nantucket Nectar   \n",
       "3         1         1  Chips and Tomatillo-Green Chili Salsa   \n",
       "4         2         2                           Chicken Bowl   \n",
       "\n",
       "                                  choice_description item_price  \n",
       "0                                                NaN     $2.39   \n",
       "1                                       [Clementine]     $3.39   \n",
       "2                                            [Apple]     $3.39   \n",
       "3                                                NaN     $2.39   \n",
       "4  [Tomatillo-Red Chili Salsa (Hot), [Black Beans...    $16.98   "
      ]
     },
     "execution_count": 2,
     "metadata": {},
     "output_type": "execute_result"
    }
   ],
   "source": [
    "import pandas\n",
    "import seaborn\n",
    "import matplotlib.pyplot as plt\n",
    "\n",
    "url = \"https://raw.githubusercontent.com/justmarkham/DAT8/master/data/chipotle.tsv\"\n",
    "chipotle_data = pandas.read_csv(url, sep= \"\\t\")\n",
    "chipotle_data.head()\n"
   ]
  },
  {
   "cell_type": "code",
   "execution_count": 3,
   "metadata": {},
   "outputs": [
    {
     "name": "stdout",
     "output_type": "stream",
     "text": [
      "<class 'pandas.core.frame.DataFrame'>\n",
      "RangeIndex: 4622 entries, 0 to 4621\n",
      "Data columns (total 5 columns):\n",
      " #   Column              Non-Null Count  Dtype \n",
      "---  ------              --------------  ----- \n",
      " 0   order_id            4622 non-null   int64 \n",
      " 1   quantity            4622 non-null   int64 \n",
      " 2   item_name           4622 non-null   object\n",
      " 3   choice_description  3376 non-null   object\n",
      " 4   item_price          4622 non-null   object\n",
      "dtypes: int64(2), object(3)\n",
      "memory usage: 180.7+ KB\n",
      "None\n"
     ]
    }
   ],
   "source": [
    "print(chipotle_data.info())"
   ]
  },
  {
   "cell_type": "code",
   "execution_count": 4,
   "metadata": {},
   "outputs": [
    {
     "name": "stdout",
     "output_type": "stream",
     "text": [
      "          order_id     quantity\n",
      "count  4622.000000  4622.000000\n",
      "mean    927.254868     1.075725\n",
      "std     528.890796     0.410186\n",
      "min       1.000000     1.000000\n",
      "25%     477.250000     1.000000\n",
      "50%     926.000000     1.000000\n",
      "75%    1393.000000     1.000000\n",
      "max    1834.000000    15.000000\n"
     ]
    }
   ],
   "source": [
    "print(chipotle_data.describe())"
   ]
  },
  {
   "cell_type": "code",
   "execution_count": 5,
   "metadata": {},
   "outputs": [
    {
     "name": "stdout",
     "output_type": "stream",
     "text": [
      "Index(['order_id', 'quantity', 'item_name', 'choice_description',\n",
      "       'item_price'],\n",
      "      dtype='object')\n"
     ]
    }
   ],
   "source": [
    "print(chipotle_data.columns)"
   ]
  },
  {
   "cell_type": "code",
   "execution_count": 13,
   "metadata": {},
   "outputs": [
    {
     "name": "stdout",
     "output_type": "stream",
     "text": [
      "NON REPEATING ITEMS LIST:\n",
      "-------------------\n",
      "                       order_id  quantity  \\\n",
      "item_name                                   \n",
      "6 Pack Soft Drink         52322        55   \n",
      "Barbacoa Bowl             53972        66   \n",
      "Barbacoa Burrito          74718        91   \n",
      "Barbacoa Crispy Tacos      5613        12   \n",
      "Barbacoa Salad Bowl        9708        10   \n",
      "\n",
      "                                                      choice_description  \\\n",
      "item_name                                                                  \n",
      "6 Pack Soft Drink      [Sprite][Diet Coke][Coke][Diet Coke][Diet Coke...   \n",
      "Barbacoa Bowl          [Roasted Chili Corn Salsa, [Fajita Vegetables,...   \n",
      "Barbacoa Burrito       [[Fresh Tomato Salsa (Mild), Tomatillo-Green C...   \n",
      "Barbacoa Crispy Tacos  [Tomatillo Red Chili Salsa, [Rice, Black Beans...   \n",
      "Barbacoa Salad Bowl    [Fresh Tomato Salsa, [Rice, Fajita Vegetables,...   \n",
      "\n",
      "                                                              item_price  \n",
      "item_name                                                                 \n",
      "6 Pack Soft Drink      $6.49 $6.49 $6.49 $6.49 $6.49 $6.49 $6.49 $6.4...  \n",
      "Barbacoa Bowl          $11.75 $11.75 $9.25 $8.99 $9.25 $11.75 $9.25 $...  \n",
      "Barbacoa Burrito       $8.99 $9.25 $9.25 $11.75 $11.75 $9.25 $8.99 $1...  \n",
      "Barbacoa Crispy Tacos  $11.75 $9.25 $11.48 $11.75 $9.25 $9.25 $8.99 $...  \n",
      "Barbacoa Salad Bowl    $11.89 $11.89 $9.39 $9.39 $9.39 $11.89 $11.89 ...  \n",
      "-------------------\n",
      "ITEM QUANTITIES:\n",
      "-------------------\n",
      "item_name\n",
      "6 Pack Soft Drink        55\n",
      "Barbacoa Bowl            66\n",
      "Barbacoa Burrito         91\n",
      "Barbacoa Crispy Tacos    12\n",
      "Barbacoa Salad Bowl      10\n",
      "Name: quantity, dtype: int64\n"
     ]
    }
   ],
   "source": [
    "## group by item_name and sum the columns in relation to the item_name\n",
    "non_repeating_items = chipotle_data.groupby(\"item_name\").sum()\n",
    "\n",
    "## get quantities summed up in relation to item_name, from previosuly grouped data\n",
    "item_quantities = non_repeating_items[\"quantity\"]\n",
    "\n",
    "print(\"NON REPEATING ITEMS LIST:\")\n",
    "print(\"-------------------\")\n",
    "print(non_repeating_items.head())\n",
    "print(\"-------------------\")\n",
    "print(\"ITEM QUANTITIES:\")\n",
    "print(\"-------------------\")\n",
    "print(item_quantities.head())"
   ]
  },
  {
   "cell_type": "code",
   "execution_count": 22,
   "metadata": {},
   "outputs": [
    {
     "name": "stdout",
     "output_type": "stream",
     "text": [
      "Most Quantity That Was Ordered: 761\n",
      "Item that was orederd the most: Chicken Bowl\n"
     ]
    }
   ],
   "source": [
    "## use max() method to get the highest value\n",
    "most_quantity = item_quantities.max()\n",
    "print(\"Most Quantity That Was Ordered:\", most_quantity)\n",
    "## use idxmax() method to get \"index\" or \"label\" of the highest value\n",
    "item_most_quantity = item_quantities.idxmax()\n",
    "print(\"Item that was orederd the most:\", item_most_quantity)"
   ]
  }
 ],
 "metadata": {
  "kernelspec": {
   "display_name": "Python 3",
   "language": "python",
   "name": "python3"
  },
  "language_info": {
   "codemirror_mode": {
    "name": "ipython",
    "version": 3
   },
   "file_extension": ".py",
   "mimetype": "text/x-python",
   "name": "python",
   "nbconvert_exporter": "python",
   "pygments_lexer": "ipython3",
   "version": "3.12.1"
  }
 },
 "nbformat": 4,
 "nbformat_minor": 2
}
